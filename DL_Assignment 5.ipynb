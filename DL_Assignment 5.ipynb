{
 "cells": [
  {
   "cell_type": "code",
   "execution_count": 3,
   "id": "d86e7061",
   "metadata": {},
   "outputs": [
    {
     "name": "stdout",
     "output_type": "stream",
     "text": [
      "Defaulting to user installation because normal site-packages is not writeable\n",
      "Requirement already satisfied: gensim in /home/aniket/.local/lib/python3.10/site-packages (4.3.3)\n",
      "Requirement already satisfied: numpy<2.0,>=1.18.5 in /home/aniket/.local/lib/python3.10/site-packages (from gensim) (1.26.4)\n",
      "Requirement already satisfied: scipy<1.14.0,>=1.7.0 in /home/aniket/.local/lib/python3.10/site-packages (from gensim) (1.11.2)\n",
      "Requirement already satisfied: smart-open>=1.8.1 in /home/aniket/.local/lib/python3.10/site-packages (from gensim) (7.0.5)\n",
      "Requirement already satisfied: wrapt in /home/aniket/.local/lib/python3.10/site-packages (from smart-open>=1.8.1->gensim) (1.16.0)\n"
     ]
    }
   ],
   "source": [
    "!pip install gensim"
   ]
  },
  {
   "cell_type": "code",
   "execution_count": 4,
   "id": "01dd1d12-bdcf-470c-8469-e514f7735bbe",
   "metadata": {},
   "outputs": [
    {
     "name": "stdout",
     "output_type": "stream",
     "text": [
      "Defaulting to user installation because normal site-packages is not writeable\n",
      "Requirement already satisfied: pip in /home/aniket/.local/lib/python3.10/site-packages (24.3.1)\n",
      "Note: you may need to restart the kernel to use updated packages.\n"
     ]
    }
   ],
   "source": [
    "pip install --upgrade pip"
   ]
  },
  {
   "cell_type": "code",
   "execution_count": 5,
   "id": "193c661c",
   "metadata": {},
   "outputs": [],
   "source": [
    "#Importing libraries\n",
    "import numpy as np\n",
    "from nltk.tokenize import sent_tokenize, word_tokenize\n",
    "import warnings\n",
    "warnings.filterwarnings(action = 'ignore')\n",
    "import gensim\n",
    "from gensim.models import Word2Vec\n",
    "import re\n",
    "import bs4 as bs\n",
    "import urllib.request\n",
    "import nltk"
   ]
  },
  {
   "cell_type": "code",
   "execution_count": 6,
   "id": "33f58bb3-e127-4fb6-81a9-ffe2764900c6",
   "metadata": {},
   "outputs": [
    {
     "name": "stdout",
     "output_type": "stream",
     "text": [
      "Defaulting to user installation because normal site-packages is not writeable\n",
      "Requirement already satisfied: numpy in /home/aniket/.local/lib/python3.10/site-packages (1.26.4)\n",
      "Collecting numpy\n",
      "  Downloading numpy-2.1.3-cp310-cp310-manylinux_2_17_x86_64.manylinux2014_x86_64.whl.metadata (62 kB)\n",
      "Requirement already satisfied: gensim in /home/aniket/.local/lib/python3.10/site-packages (4.3.3)\n",
      "Requirement already satisfied: scipy<1.14.0,>=1.7.0 in /home/aniket/.local/lib/python3.10/site-packages (from gensim) (1.11.2)\n",
      "Requirement already satisfied: smart-open>=1.8.1 in /home/aniket/.local/lib/python3.10/site-packages (from gensim) (7.0.5)\n",
      "Requirement already satisfied: wrapt in /home/aniket/.local/lib/python3.10/site-packages (from smart-open>=1.8.1->gensim) (1.16.0)\n",
      "Note: you may need to restart the kernel to use updated packages.\n"
     ]
    }
   ],
   "source": [
    "pip install --upgrade numpy gensim\n"
   ]
  },
  {
   "cell_type": "code",
   "execution_count": 7,
   "id": "cf960936",
   "metadata": {},
   "outputs": [
    {
     "name": "stderr",
     "output_type": "stream",
     "text": [
      "[nltk_data] Downloading package punkt to /home/aniket/nltk_data...\n",
      "[nltk_data]   Package punkt is already up-to-date!\n",
      "[nltk_data] Downloading package stopwords to /home/aniket/nltk_data...\n",
      "[nltk_data]   Package stopwords is already up-to-date!\n"
     ]
    },
    {
     "data": {
      "text/plain": [
       "True"
      ]
     },
     "execution_count": 7,
     "metadata": {},
     "output_type": "execute_result"
    }
   ],
   "source": [
    "nltk.download('punkt')\n",
    "nltk.download('stopwords')"
   ]
  },
  {
   "cell_type": "code",
   "execution_count": 8,
   "id": "b4e6425d",
   "metadata": {},
   "outputs": [],
   "source": [
    "sentences = \"\"\"Lorem Ipsum is simply dummy text of the printing and typesetting industry. Lorem Ipsum has been the industry's \n",
    "standard dummy text ever since the 1500s, when an unknown printer took a galley of type and scrambled it to make a type \n",
    "specimen book. It has survived not only five centuries, but also the leap into electronic typesetting, remaining essentially \n",
    "unchanged. It was popularised in the 1960s with the release of Letraset sheets containing Lorem Ipsum passages, and more \n",
    "recently with desktop publishing software like Aldus PageMaker including versions of Lorem Ipsum.\n",
    "\"\"\"\n"
   ]
  },
  {
   "cell_type": "code",
   "execution_count": 9,
   "id": "4331c0e2",
   "metadata": {},
   "outputs": [
    {
     "name": "stdout",
     "output_type": "stream",
     "text": [
      "Lorem Ipsum is simply dummy text of the printing and typesetting industry Lorem Ipsum has been the industry standard dummy text ever since the 1500s when an unknown printer took galley of type and scrambled it to make type specimen book It has survived not only five centuries but also the leap into electronic typesetting remaining essentially unchanged It was popularised in the 1960s with the release of Letraset sheets containing Lorem Ipsum passages and more recently with desktop publishing software like Aldus PageMaker including versions of Lorem Ipsum\n"
     ]
    }
   ],
   "source": [
    "#Remove one letter words\n",
    "sentences = re.sub('[^A-Za-z0-9]+', ' ', sentences)\n",
    "\n",
    "#Remove special characters\n",
    "sentences = re.sub(r'(?:^| )\\w(?:$| )', ' ', sentences).strip()\n",
    "print(sentences)"
   ]
  },
  {
   "cell_type": "code",
   "execution_count": 10,
   "id": "04f65808",
   "metadata": {},
   "outputs": [
    {
     "name": "stdout",
     "output_type": "stream",
     "text": [
      "['lorem ipsum is simply dummy text of the printing and typesetting industry lorem ipsum has been the industry standard dummy text ever since the 1500s when an unknown printer took galley of type and scrambled it to make type specimen book it has survived not only five centuries but also the leap into electronic typesetting remaining essentially unchanged it was popularised in the 1960s with the release of letraset sheets containing lorem ipsum passages and more recently with desktop publishing software like aldus pagemaker including versions of lorem ipsum']\n"
     ]
    }
   ],
   "source": [
    "#Convert all letters to lowercase\n",
    "sentences = sentences.lower()\n",
    "\n",
    "#Tokenize sentences\n",
    "all_sent=nltk.sent_tokenize(sentences)\n",
    "print(all_sent)"
   ]
  },
  {
   "cell_type": "code",
   "execution_count": 11,
   "id": "1bfc4060",
   "metadata": {},
   "outputs": [],
   "source": [
    "#Break sentences into words\n",
    "all_words = [nltk.word_tokenize(sent) for sent in all_sent]\n",
    "\n",
    "#Remove stopwords\n",
    "from nltk.corpus import stopwords\n",
    "for i in range(len(all_words)):\n",
    "    all_words[i]=[w for w in all_words[i] if w not in stopwords.words('english')]\n",
    "    data = all_words"
   ]
  },
  {
   "cell_type": "code",
   "execution_count": 12,
   "id": "26dbb439",
   "metadata": {},
   "outputs": [],
   "source": [
    "#Training model using gensim\n",
    "model1 = gensim.models.Word2Vec(data, min_count = 1,vector_size = 52, window = 6)"
   ]
  },
  {
   "cell_type": "code",
   "execution_count": 13,
   "id": "815c02c9",
   "metadata": {},
   "outputs": [
    {
     "name": "stdout",
     "output_type": "stream",
     "text": [
      "('ipsum', 0.34588178992271423)\n",
      "('scrambled', 0.33092600107192993)\n",
      "('leap', 0.26459941267967224)\n",
      "('survived', 0.25498709082603455)\n",
      "('galley', 0.24830076098442078)\n",
      "('standard', 0.20043358206748962)\n",
      "('remaining', 0.18347664177417755)\n",
      "('unknown', 0.18286274373531342)\n",
      "('type', 0.15823787450790405)\n",
      "('industry', 0.1473446935415268)\n"
     ]
    }
   ],
   "source": [
    "#Finding similar words to given word\n",
    "wrd='simply'\n",
    "v1=model1.wv[wrd]\n",
    "similar_words=model1.wv.most_similar(wrd)\n",
    "for x in similar_words:\n",
    "    print(x)"
   ]
  },
  {
   "cell_type": "code",
   "execution_count": 14,
   "id": "ec38eb6e",
   "metadata": {},
   "outputs": [
    {
     "name": "stdout",
     "output_type": "stream",
     "text": [
      "['lorem', 'ipsum', 'simply', 'dummy', 'text', 'printing', 'typesetting', 'industry', 'lorem', 'ipsum', 'industry', 'standard', 'dummy', 'text', 'ever', 'since', '1500s', 'unknown', 'printer', 'took', 'galley', 'type', 'scrambled', 'make', 'type', 'specimen', 'book', 'survived', 'five', 'centuries', 'also', 'leap', 'electronic', 'typesetting', 'remaining', 'essentially', 'unchanged', 'popularised', '1960s', 'release', 'letraset', 'sheets', 'containing', 'lorem', 'ipsum', 'passages', 'recently', 'desktop', 'publishing', 'software', 'like', 'aldus', 'pagemaker', 'including', 'versions', 'lorem', 'ipsum']\n"
     ]
    }
   ],
   "source": [
    "data1 = data[0]\n",
    "print(data1)"
   ]
  },
  {
   "cell_type": "code",
   "execution_count": 15,
   "id": "fef2f39a",
   "metadata": {},
   "outputs": [
    {
     "name": "stdout",
     "output_type": "stream",
     "text": [
      "[(['lorem', 'ipsum', 'dummy', 'text'], 'simply'), (['ipsum', 'simply', 'text', 'printing'], 'dummy'), (['simply', 'dummy', 'printing', 'typesetting'], 'text'), (['dummy', 'text', 'typesetting', 'industry'], 'printing'), (['text', 'printing', 'industry', 'lorem'], 'typesetting'), (['printing', 'typesetting', 'lorem', 'ipsum'], 'industry'), (['typesetting', 'industry', 'ipsum', 'industry'], 'lorem'), (['industry', 'lorem', 'industry', 'standard'], 'ipsum'), (['lorem', 'ipsum', 'standard', 'dummy'], 'industry'), (['ipsum', 'industry', 'dummy', 'text'], 'standard'), (['industry', 'standard', 'text', 'ever'], 'dummy'), (['standard', 'dummy', 'ever', 'since'], 'text'), (['dummy', 'text', 'since', '1500s'], 'ever'), (['text', 'ever', '1500s', 'unknown'], 'since'), (['ever', 'since', 'unknown', 'printer'], '1500s'), (['since', '1500s', 'printer', 'took'], 'unknown'), (['1500s', 'unknown', 'took', 'galley'], 'printer'), (['unknown', 'printer', 'galley', 'type'], 'took'), (['printer', 'took', 'type', 'scrambled'], 'galley'), (['took', 'galley', 'scrambled', 'make'], 'type'), (['galley', 'type', 'make', 'type'], 'scrambled'), (['type', 'scrambled', 'type', 'specimen'], 'make'), (['scrambled', 'make', 'specimen', 'book'], 'type'), (['make', 'type', 'book', 'survived'], 'specimen'), (['type', 'specimen', 'survived', 'five'], 'book'), (['specimen', 'book', 'five', 'centuries'], 'survived'), (['book', 'survived', 'centuries', 'also'], 'five'), (['survived', 'five', 'also', 'leap'], 'centuries'), (['five', 'centuries', 'leap', 'electronic'], 'also'), (['centuries', 'also', 'electronic', 'typesetting'], 'leap'), (['also', 'leap', 'typesetting', 'remaining'], 'electronic'), (['leap', 'electronic', 'remaining', 'essentially'], 'typesetting'), (['electronic', 'typesetting', 'essentially', 'unchanged'], 'remaining'), (['typesetting', 'remaining', 'unchanged', 'popularised'], 'essentially'), (['remaining', 'essentially', 'popularised', '1960s'], 'unchanged'), (['essentially', 'unchanged', '1960s', 'release'], 'popularised'), (['unchanged', 'popularised', 'release', 'letraset'], '1960s'), (['popularised', '1960s', 'letraset', 'sheets'], 'release'), (['1960s', 'release', 'sheets', 'containing'], 'letraset'), (['release', 'letraset', 'containing', 'lorem'], 'sheets'), (['letraset', 'sheets', 'lorem', 'ipsum'], 'containing'), (['sheets', 'containing', 'ipsum', 'passages'], 'lorem'), (['containing', 'lorem', 'passages', 'recently'], 'ipsum'), (['lorem', 'ipsum', 'recently', 'desktop'], 'passages'), (['ipsum', 'passages', 'desktop', 'publishing'], 'recently'), (['passages', 'recently', 'publishing', 'software'], 'desktop'), (['recently', 'desktop', 'software', 'like'], 'publishing'), (['desktop', 'publishing', 'like', 'aldus'], 'software'), (['publishing', 'software', 'aldus', 'pagemaker'], 'like'), (['software', 'like', 'pagemaker', 'including'], 'aldus'), (['like', 'aldus', 'including', 'versions'], 'pagemaker'), (['aldus', 'pagemaker', 'versions', 'lorem'], 'including'), (['pagemaker', 'including', 'lorem', 'ipsum'], 'versions')]\n"
     ]
    }
   ],
   "source": [
    "#Preparing list of context words\n",
    "dat = []\n",
    "for i in range(2, len(data1) - 2):\n",
    "    context = [data1[i - 2], data1[i - 1], data1[i+1], data1[i + 2]]\n",
    "    target = data1[i]\n",
    "    dat.append((context, target))\n",
    "print(dat)"
   ]
  },
  {
   "cell_type": "code",
   "execution_count": 21,
   "id": "77aab127",
   "metadata": {},
   "outputs": [
    {
     "name": "stdout",
     "output_type": "stream",
     "text": [
      "['dummy', 'text', 'typesetting', 'industry'] printing\n",
      "[('simply', 0.021739656), ('electronic', 0.02173958), ('make', 0.021739451), ('five', 0.021739438), ('essentially', 0.021739392), ('versions', 0.021739392), ('release', 0.021739382), ('scrambled', 0.021739375), ('1960s', 0.021739317), ('lorem', 0.0217393)]\n"
     ]
    }
   ],
   "source": [
    "#Predicting current word from context words\n",
    "i=3\n",
    "print(dat[i][0],dat[i][1])\n",
    "print(model1.predict_output_word(dat[i][0]))"
   ]
  },
  {
   "cell_type": "code",
   "execution_count": null,
   "id": "4903aa4f",
   "metadata": {},
   "outputs": [],
   "source": []
  },
  {
   "cell_type": "code",
   "execution_count": null,
   "id": "132c5e4a-259d-4fef-bb7b-cac63a823e6a",
   "metadata": {},
   "outputs": [],
   "source": []
  }
 ],
 "metadata": {
  "kernelspec": {
   "display_name": "Python 3 (ipykernel)",
   "language": "python",
   "name": "python3"
  },
  "language_info": {
   "codemirror_mode": {
    "name": "ipython",
    "version": 3
   },
   "file_extension": ".py",
   "mimetype": "text/x-python",
   "name": "python",
   "nbconvert_exporter": "python",
   "pygments_lexer": "ipython3",
   "version": "3.10.12"
  }
 },
 "nbformat": 4,
 "nbformat_minor": 5
}
